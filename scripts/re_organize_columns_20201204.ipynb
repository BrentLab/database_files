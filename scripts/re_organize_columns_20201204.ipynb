{
 "cells": [
  {
   "cell_type": "code",
   "execution_count": 25,
   "metadata": {},
   "outputs": [],
   "source": [
    "import pandas as pd\n",
    "import numpy as np\n",
    "from glob import glob\n",
    "import os\n",
    "\n",
    "# this script is written in commit\n",
    "# commit 27e9b2b1c36e319fd992240d78e9e946dc8d96a5\n",
    "# revert to that to check/re-run/modify/etc "
   ]
  },
  {
   "cell_type": "code",
   "execution_count": 26,
   "metadata": {},
   "outputs": [],
   "source": [
    "combined_df = pd.read_csv('~/Desktop/tmp/combined_df_20201204.csv')"
   ]
  },
  {
   "cell_type": "markdown",
   "metadata": {},
   "source": [
    "### bioSample"
   ]
  },
  {
   "cell_type": "code",
   "execution_count": 50,
   "metadata": {},
   "outputs": [],
   "source": [
    "# split genotype into genotype1, perturb1, genotype2, perturb2\n",
    "# split treatment\n",
    "# correct mis-spellings in experimentDesign\n",
    "\n",
    "# get list of biosample sheets\n",
    "subdir = \"bioSample\"\n",
    "biosample_sheet_list = glob(\"/home/chase/code/brentlab/database_files/bioSample/*\")\n",
    "\n",
    "treatment_split_dict = {\"medium_categories\": [\"DMEM\",\"PBS\",\"RPMI\",\"YPD\"],\n",
    "                        \"temp_categories\": [\"37C\",\"30C\"],\n",
    "                        \"atmosphere_categories\": [\"CO2\"],\n",
    "                        \"treatment_categories\": ['EtOH', 'Estradiol', \"estradiol\", 'mockEstradiol', \"cAMP\", \"CHX\"], # if cAMP, take everything after also\n",
    "                        \"other_conditions\": [\"pH7\"]\n",
    "                       } # end treatment_split_dict\n",
    "\n",
    "for file in biosample_sheet_list:\n",
    "    biosample_sheet_df = pd.read_excel(file)\n",
    "    new_col_dict = {\"genotype1\":         [None] * len(biosample_sheet_df.index) ,\n",
    "                    \"perturbation1\":     [None] * len(biosample_sheet_df.index),\n",
    "                    \"genotype2\":         [None] * len(biosample_sheet_df.index),\n",
    "                    \"perturbation2\":     [None] * len(biosample_sheet_df.index),\n",
    "                    \"experiment_design\": [None] * len(biosample_sheet_df.index),\n",
    "                    \"medium\":            [None] * len(biosample_sheet_df.index),\n",
    "                    \"temperature\":       [None] * len(biosample_sheet_df.index),\n",
    "                    \"atmosphere\":        [None] * len(biosample_sheet_df.index),\n",
    "                    \"other_conditions\":  [None] * len(biosample_sheet_df.index),\n",
    "                    \"treatment\":         [None] * len(biosample_sheet_df.index) \n",
    "                   } # end new_col_dict\n",
    "    \n",
    "    # split genotype\n",
    "    for index, row in biosample_sheet_df.iterrows():\n",
    "        # split the genotype column\n",
    "        geno_split = row.genotype.split(\".\")\n",
    "        geno1 = \"_\".join(geno_split[0].split(\"_\", 2)[:2])\n",
    "        try:\n",
    "            # if over is in first genotype, perturbation is over\n",
    "            perturbation1 = geno_split[0].split(\"_\")[2]\n",
    "        except(IndexError):\n",
    "            # otherwise, deletion\n",
    "            if geno1 != \"CNAG_00000\" and geno1.startswith(\"CNAG\"):\n",
    "                perturbation1 = \"deletion\"\n",
    "            else:\n",
    "                perturbation1 = None\n",
    "        try:\n",
    "            geno2 = geno_split[1]\n",
    "        except(IndexError):\n",
    "            geno2 = None\n",
    "        new_col_dict[\"genotype1\"][index] = geno1\n",
    "        new_col_dict[\"perturbation1\"][index] = perturbation1\n",
    "        new_col_dict[\"genotype2\"][index] = geno2\n",
    "        # true if there are any entries in genotype2 other than none. If there are, add \"deletion\"\n",
    "        if any(new_col_dict[\"genotype2\"]):\n",
    "            new_col_dict[\"perturbation2\"][index] = \"deletion\"\n",
    "        \n",
    "        # fix formatting in experimentDesign column\n",
    "        if row.experimentDesign == \"90minuteinduction\":\n",
    "            new_col_dict[\"experiment_design\"][index] = \"90minuteInduction\"\n",
    "        elif row.experimentDesign == \"24hourinduction\":\n",
    "            new_col_dict[\"experiment_design\"][index] = \"24hourInduction\"\n",
    "        else:\n",
    "            new_col_dict[\"experiment_design\"][index] = row.experimentDesign\n",
    "        \n",
    "        # split treatment column\n",
    "        treatment_split = row.treatment.split(\".\")\n",
    "        if treatment_split[0] in treatment_split_dict[\"medium_categories\"]:\n",
    "            new_col_dict[\"medium\"][index] = treatment_split[0]\n",
    "        if treatment_split[0] in treatment_split_dict[\"temp_categories\"]:\n",
    "            new_col_dict[\"temperature\"][index] = treatment_split[0].replace(\"C\",\"\")\n",
    "        if treatment_split[0] in treatment_split_dict[\"treatment_categories\"]:\n",
    "            new_col_dict[\"treatment\"][index] = treatment_split[0]\n",
    "        # if index error, stop checking\n",
    "        try:\n",
    "            if treatment_split[1] in treatment_split_dict[\"temp_categories\"]:\n",
    "                new_col_dict[\"temperature\"][index] = treatment_split[1].replace(\"C\",\"\")\n",
    "            if treatment_split[1] in treatment_split_dict[\"atmosphere_categories\"]:\n",
    "                new_col_dict[\"atmosphere\"][index] = treatment_split[1]\n",
    "            if treatment_split[2] in treatment_split_dict[\"atmosphere_categories\"]:\n",
    "                new_col_dict[\"atmosphere\"][index] = treatment_split[2]\n",
    "            if treatment_split[2] in treatment_split_dict[\"treatment_categories\"]:\n",
    "                if treatment_split[2] == \"cAMP\":\n",
    "                    new_col_dict[\"treatment\"][index] = \".\".join(treatment_split[2:len(treatment_split)])\n",
    "                else:\n",
    "                    new_col_dict[\"treatment\"][index] = treatment_split[2]\n",
    "            if treatment_split[2] in treatment_split_dict[\"other_conditions\"]:\n",
    "                new_col_dict[\"other_conditions\"][index] = treatment_split[2]\n",
    "            if treatment_split[3] in treatment_split_dict[\"other_conditions\"]:\n",
    "                new_col_dict[\"other_conditions\"][index] = treatment_split[3]\n",
    "            if treatment_split[3] in treatment_split_dict[\"treatment_categories\"]:\n",
    "                if treatment_split[3] == \"cAMP\":\n",
    "                    new_col_dict[\"treatment\"][index] = \".\".join(treatment_split[3:len(treatment_split)])\n",
    "                else:\n",
    "                    new_col_dict[\"treatment\"][index] = treatment_split[3]\n",
    "            \n",
    "        except(IndexError):\n",
    "            pass\n",
    "\n",
    "    biosample_sheet_df.experimentDesign = new_col_dict[\"experiment_design\"]\n",
    "    # list of new genotype columns\n",
    "    new_genotype_columns = [\"genotype1\", \"perturbation1\", \"genotype2\", \"perturbation2\"]\n",
    "    # add new genotype columns after if not entirely null at genotype location (note reverse order of new_genotype_columns)\n",
    "    for new_col in new_genotype_columns:\n",
    "        # returns true if any entries in col are other than None\n",
    "        if any(new_col_dict[new_col]):\n",
    "            biosample_sheet_df.insert(list(biosample_sheet_df.columns).index(\"genotype\"), new_col, new_col_dict[new_col])\n",
    "    # drop (old) genotype column\n",
    "    # list of new treatment columns\n",
    "    new_treatment_columns = [\"medium\", \"temperature\", \"atmosphere\", \"treatment\", \"other_conditions\"]\n",
    "    # rename treatment to treatment_old\n",
    "    biosample_sheet_df.rename(columns = {\"treatment\": \"treatment_old\"}, inplace = True) \n",
    "    # add new treatment columns if they are not entirely null after treatment_old (note reverse order of new_genotype_columns)\n",
    "    for new_col in new_treatment_columns:\n",
    "        # returns true if any entries in col are other than None\n",
    "        if any(new_col_dict[new_col]):\n",
    "            biosample_sheet_df.insert(list(biosample_sheet_df.columns).index(\"treatment_old\"), new_col, new_col_dict[new_col])\n",
    "    # write dataframe back to the same path\n",
    "    biosample_sheet_df.to_excel(file, index=False)\n",
    "            \n",
    "        "
   ]
  },
  {
   "cell_type": "code",
   "execution_count": 10,
   "metadata": {},
   "outputs": [
    {
     "data": {
      "text/plain": [
       "array(['DMEM.37C.CO2', 'PBS', 'DMEM.30C.CO2.pH7', 'DMEM.37C.CO2.pH7',\n",
       "       'RPMI.30C.CO2.pH7', 'RPMI.37C.CO2.pH7', 'YPD.30C.CO2.pH7',\n",
       "       'YPD.37C.CO2.pH7', 'DMEM.30C.CO2.cAMP', 'DMEM.37C.CO2.cAMP',\n",
       "       'RPMI.30C.CO2.cAMP', 'RPMI.37C.CO2.cAMP', 'YPD.30C.CO2.cAMP',\n",
       "       'YPD.37C.CO2.cAMP', '37C.CO2', 'EtOH', 'Estradiol',\n",
       "       'mockEstradiol', 'DMEM.30C.cAMP', 'DMEM.37C.cAMP', 'RPMI.30C.cAMP',\n",
       "       'RPMI.37C.cAMP', 'YPD.30C.cAMP', 'YPD.37C.cAMP', 'DMEM.30C',\n",
       "       'DMEM.37C', 'RPMI.30C', 'RPMI.37C', 'YPD.30C', 'YPD.37C',\n",
       "       'RPMI.30C.cAMP.0mM', 'RPMI.30C.cAMP.1.8mM', 'RPMI.30C.cAMP.3.3mM',\n",
       "       'RPMI.30C.cAMP.6mM', 'RPMI.30C.cAMP.11mM', 'RPMI.30C.cAMP.20mM',\n",
       "       '30C', 'estradiol', 'DMEM.30C.CO2', 'RPMI.30C.CO2', 'RPMI.37C.CO2',\n",
       "       'YPD.30C.CO2', 'YPD.37C.CO2', '30C.CHX', '37C.CO2.CHX',\n",
       "       'DMEM.30C.pH7', 'DMEM.37C.pH7', 'RPMI.30C.pH7', 'RPMI.37C.pH7',\n",
       "       'YPD.30C.pH7', 'YPD.37C.pH7'], dtype=object)"
      ]
     },
     "execution_count": 10,
     "metadata": {},
     "output_type": "execute_result"
    }
   ],
   "source": [
    "combined_df.treatment.unique()"
   ]
  },
  {
   "cell_type": "code",
   "execution_count": null,
   "metadata": {},
   "outputs": [],
   "source": [
    "res_list = glob(\"/home/chase/Desktop/tmp/bioSample_test/*\")\n",
    "\n"
   ]
  }
 ],
 "metadata": {
  "kernelspec": {
   "display_name": "Python 3",
   "language": "python",
   "name": "python3"
  },
  "language_info": {
   "codemirror_mode": {
    "name": "ipython",
    "version": 3
   },
   "file_extension": ".py",
   "mimetype": "text/x-python",
   "name": "python",
   "nbconvert_exporter": "python",
   "pygments_lexer": "ipython3",
   "version": "3.7.6"
  }
 },
 "nbformat": 4,
 "nbformat_minor": 4
}
